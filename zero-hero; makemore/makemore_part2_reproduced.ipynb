{
 "cells": [
  {
   "cell_type": "markdown",
   "id": "7b4a1fc4-3e9b-419c-afb9-cefedbd4fdb1",
   "metadata": {},
   "source": [
    "# Makemore Part 2: MLP"
   ]
  },
  {
   "cell_type": "code",
   "execution_count": 1,
   "id": "10c56a76-9c3b-4ff0-903e-56371f1a9431",
   "metadata": {},
   "outputs": [],
   "source": [
    "# In bigram model, we only take one previous character as a reference to predict the next character\n",
    "# the words produced are not very good\n",
    "# If we try to take 2 characters as context, we have 27*27 possibilities\n",
    "# If we try to take 3 characters as context, we have 27*27*27 possibilities\n",
    "# So we try MLP"
   ]
  },
  {
   "cell_type": "code",
   "execution_count": 2,
   "id": "09ad22ba-b72e-4a59-b43f-9cc187a56807",
   "metadata": {},
   "outputs": [],
   "source": [
    "# Bengio et al. 2003 Paper \n",
    "# A Neural Probabilistic Language Model"
   ]
  },
  {
   "cell_type": "markdown",
   "id": "c88947a0-6b04-4ae7-b75e-5bdffa1ecdbe",
   "metadata": {},
   "source": [
    "## Re-Building the dataset"
   ]
  },
  {
   "cell_type": "code",
   "execution_count": 3,
   "id": "c685dfec-c548-4fda-a14e-113e23ded16c",
   "metadata": {},
   "outputs": [],
   "source": [
    "import torch\n",
    "import torch.nn.functional as F\n",
    "import matplotlib.pyplot as plt\n",
    "%matplotlib inline"
   ]
  },
  {
   "cell_type": "code",
   "execution_count": 4,
   "id": "d1fcfd19-d2b8-42d5-b26d-f712ab92de36",
   "metadata": {},
   "outputs": [
    {
     "data": {
      "text/plain": [
       "['emma', 'olivia', 'ava', 'isabella', 'sophia', 'charlotte', 'mia', 'amelia']"
      ]
     },
     "execution_count": 4,
     "metadata": {},
     "output_type": "execute_result"
    }
   ],
   "source": [
    "# Read in all the words\n",
    "words = open('names.txt', 'r').read().splitlines()\n",
    "words[:8]"
   ]
  },
  {
   "cell_type": "code",
   "execution_count": 5,
   "id": "77d1f88f-36fb-43c5-b292-228ba6a426bd",
   "metadata": {},
   "outputs": [
    {
     "data": {
      "text/plain": [
       "32033"
      ]
     },
     "execution_count": 5,
     "metadata": {},
     "output_type": "execute_result"
    }
   ],
   "source": [
    "len(words)"
   ]
  },
  {
   "cell_type": "code",
   "execution_count": 6,
   "id": "6d486801-3bae-4f76-ac94-9a0be767e8e7",
   "metadata": {},
   "outputs": [
    {
     "name": "stdout",
     "output_type": "stream",
     "text": [
      "{1: 'a', 2: 'b', 3: 'c', 4: 'd', 5: 'e', 6: 'f', 7: 'g', 8: 'h', 9: 'i', 10: 'j', 11: 'k', 12: 'l', 13: 'm', 14: 'n', 15: 'o', 16: 'p', 17: 'q', 18: 'r', 19: 's', 20: 't', 21: 'u', 22: 'v', 23: 'w', 24: 'x', 25: 'y', 26: 'z', 0: '.'}\n"
     ]
    }
   ],
   "source": [
    "# build the vocabulary of characters and mappings to/from integers\n",
    "chars = sorted(list(set(''.join(words))))\n",
    "stoi = {s:i+1 for i,s in enumerate(chars)}\n",
    "stoi['.'] = 0\n",
    "itos = {i:s for s,i in stoi.items()}\n",
    "print(itos)"
   ]
  },
  {
   "cell_type": "code",
   "execution_count": 7,
   "id": "2f2f9c43-a809-4685-8f6c-3a0e7142df9f",
   "metadata": {},
   "outputs": [],
   "source": [
    "# Build the dataset\n",
    "block_size = 3 # context length: how many characters do we take to predict the next one?\n",
    "X, Y = [], []\n",
    "for w in words:\n",
    "    #print(w)\n",
    "    context = [0] * block_size\n",
    "    for ch in w + '.':\n",
    "        ix = stoi[ch]\n",
    "        X.append(context)\n",
    "        Y.append(ix)\n",
    "        #print(''.join(itos[i] for i in context), '--->', itos[ix])\n",
    "        context = context[1:] + [ix]\n",
    "\n",
    "X = torch.tensor(X)\n",
    "Y = torch.tensor(Y)"
   ]
  },
  {
   "cell_type": "code",
   "execution_count": 137,
   "id": "7d21b571-af1c-43d0-8394-5683e3bcaa10",
   "metadata": {},
   "outputs": [
    {
     "name": "stdout",
     "output_type": "stream",
     "text": [
      "torch.Size([182580, 3]) torch.Size([182580])\n",
      "torch.Size([22767, 3]) torch.Size([22767])\n",
      "torch.Size([22799, 3]) torch.Size([22799])\n"
     ]
    }
   ],
   "source": [
    "# build the dataset\n",
    "block_size = 3 # context length: how many characters do we take to predict the next one?\n",
    "\n",
    "def build_dataset(words):  \n",
    "  X, Y = [], []\n",
    "  for w in words:\n",
    "\n",
    "    #print(w)\n",
    "    context = [0] * block_size\n",
    "    for ch in w + '.':\n",
    "      ix = stoi[ch]\n",
    "      X.append(context)\n",
    "      Y.append(ix)\n",
    "      #print(''.join(itos[i] for i in context), '--->', itos[ix])\n",
    "      context = context[1:] + [ix] # crop and append\n",
    "\n",
    "  X = torch.tensor(X)\n",
    "  Y = torch.tensor(Y)\n",
    "  print(X.shape, Y.shape)\n",
    "  return X, Y\n",
    "\n",
    "import random\n",
    "random.seed(42)\n",
    "random.shuffle(words)\n",
    "n1 = int(0.8*len(words))\n",
    "n2 = int(0.9*len(words))\n",
    "\n",
    "Xtr, Ytr = build_dataset(words[:n1])\n",
    "Xdev, Ydev = build_dataset(words[n1:n2])\n",
    "Xte, Yte = build_dataset(words[n2:])"
   ]
  },
  {
   "cell_type": "code",
   "execution_count": 138,
   "id": "cd222d2e-f41f-4abc-8e13-0283c63d7d95",
   "metadata": {},
   "outputs": [
    {
     "data": {
      "text/plain": [
       "(torch.Size([182580, 3]), torch.int64, torch.Size([182580]), torch.int64)"
      ]
     },
     "execution_count": 138,
     "metadata": {},
     "output_type": "execute_result"
    }
   ],
   "source": [
    "Xtr.shape, Xtr.dtype, Ytr.shape, Ytr.dtype"
   ]
  },
  {
   "cell_type": "markdown",
   "id": "6fafa3e3-cd7d-4168-b11a-cb3da4918a5c",
   "metadata": {},
   "source": [
    "## Implementing the embedding lookup table"
   ]
  },
  {
   "cell_type": "code",
   "execution_count": 139,
   "id": "f88a4ff8-3eb3-4285-b969-672f0e9e2312",
   "metadata": {},
   "outputs": [],
   "source": [
    "C = torch.randn((27, 2))"
   ]
  },
  {
   "cell_type": "code",
   "execution_count": 140,
   "id": "78371792-a9b8-4543-a1f7-b34055155317",
   "metadata": {},
   "outputs": [
    {
     "data": {
      "text/plain": [
       "tensor([[ 0.5649, -1.5296],\n",
       "        [ 1.0453, -0.1722],\n",
       "        [ 0.4850, -0.2281],\n",
       "        [ 0.4850, -0.2281],\n",
       "        [ 0.4850, -0.2281]])"
      ]
     },
     "execution_count": 140,
     "metadata": {},
     "output_type": "execute_result"
    }
   ],
   "source": [
    "# We can index into like this \n",
    "C[5]\n",
    "# as well as\n",
    "C[torch.tensor([5,6,7,7,7])]"
   ]
  },
  {
   "cell_type": "code",
   "execution_count": 141,
   "id": "c60d8702-ce65-4512-95e2-56b7671483bd",
   "metadata": {},
   "outputs": [
    {
     "data": {
      "text/plain": [
       "torch.Size([228146, 3, 2])"
      ]
     },
     "execution_count": 141,
     "metadata": {},
     "output_type": "execute_result"
    }
   ],
   "source": [
    "# But we do this\n",
    "emb = C[X]\n",
    "emb.shape\n",
    "# So for every one of X we have retrieved its embedding vector"
   ]
  },
  {
   "cell_type": "markdown",
   "id": "ab05fa89-d424-4809-a6da-a87d49996fef",
   "metadata": {},
   "source": [
    "## Implementing the hidden layer + internals of torch.Tensor: storage, views"
   ]
  },
  {
   "cell_type": "code",
   "execution_count": 142,
   "id": "17eb24d8-8b0b-458d-9a83-6efee75f3b50",
   "metadata": {},
   "outputs": [],
   "source": [
    "W1 = torch.rand((6, 100)) #6 input, 100 neurons\n",
    "b1 = torch.randn(100)"
   ]
  },
  {
   "cell_type": "code",
   "execution_count": 143,
   "id": "b9bfd259-9dfb-4701-9cbf-86bda407b22b",
   "metadata": {},
   "outputs": [],
   "source": [
    "# We need to somehow make the shape of emb from 32,3,2 to 32, 6, \n",
    "# So we can multiply that emb with W1 which is shape 6, 100\n",
    "# emb[:, 0, :].shape  output-> torch.Size([32, 2])\n",
    "# This gives us 1 of the embeddings, we need to retrieve 3 of them and concat them\n",
    "# torch.cat([emb[:, 0, :],  emb[:, 1, :],  emb[:, 2, :]], 1).shape\n",
    "# But instead of doing this manually, unbind the 1st dimension and concat it like this\n",
    "# torch.cat(torch.unbind(emb, 1), 1).shape # This is inefficient -> new memory creation\n",
    "# But there is a better way of doing it\n",
    "# ---\n",
    "# a = torch.arange(18)\n",
    "# a\n",
    "# a.view(2,9); this operation is very efficient; storage remains same but view can change\n",
    "# So we can do\n",
    "# print(emb.shape) => 32, 3, 2\n",
    "# emb.view(32, 6).shape => 32, 6"
   ]
  },
  {
   "cell_type": "code",
   "execution_count": 144,
   "id": "528c3453-535a-40c2-91d0-bd608140f53d",
   "metadata": {},
   "outputs": [
    {
     "data": {
      "text/plain": [
       "tensor([[ 0.9279,  0.9997,  0.9999,  ...,  0.9961,  0.9963,  0.9992],\n",
       "        [ 0.9033,  0.9787,  0.9920,  ...,  0.9580,  0.8529,  0.9900],\n",
       "        [ 0.5095, -0.8151,  0.8984,  ..., -0.7226, -0.1602, -0.6187],\n",
       "        ...,\n",
       "        [ 0.3052,  0.1564,  0.8114,  ..., -0.4260, -0.3958,  0.0527],\n",
       "        [ 0.3751,  0.5365,  0.7497,  ..., -0.3541, -0.7342, -0.2803],\n",
       "        [-0.2427,  0.3270,  0.8466,  ..., -0.3454, -0.5409,  0.7426]])"
      ]
     },
     "execution_count": 144,
     "metadata": {},
     "output_type": "execute_result"
    }
   ],
   "source": [
    "h = torch.tanh(emb.view(-1, 6) @ W1 + b1) # Put -1 instead of hard-coding it as 32, this way PyTorch will infer it as 32\n",
    "h"
   ]
  },
  {
   "cell_type": "code",
   "execution_count": 145,
   "id": "6203ad69-3652-42b4-b2a7-6aebeb75ced9",
   "metadata": {},
   "outputs": [
    {
     "data": {
      "text/plain": [
       "torch.Size([228146, 100])"
      ]
     },
     "execution_count": 145,
     "metadata": {},
     "output_type": "execute_result"
    }
   ],
   "source": [
    "h.shape"
   ]
  },
  {
   "cell_type": "markdown",
   "id": "cda6a620-76f3-4bc5-9a64-170b47e48980",
   "metadata": {},
   "source": [
    "## Implementing the  output layer and Negative log likelihood loss"
   ]
  },
  {
   "cell_type": "code",
   "execution_count": 146,
   "id": "761c1cf2-a407-44de-982c-2848aca0e3eb",
   "metadata": {},
   "outputs": [],
   "source": [
    "W2 = torch.randn((100, 27))\n",
    "b2 = torch.randn(27)"
   ]
  },
  {
   "cell_type": "code",
   "execution_count": 147,
   "id": "d5207a15-3c25-4b89-9eca-c82600cc2ba7",
   "metadata": {},
   "outputs": [
    {
     "data": {
      "text/plain": [
       "torch.Size([228146, 27])"
      ]
     },
     "execution_count": 147,
     "metadata": {},
     "output_type": "execute_result"
    }
   ],
   "source": [
    "logits = h @ W2 + b2\n",
    "logits.shape"
   ]
  },
  {
   "cell_type": "code",
   "execution_count": 148,
   "id": "8c91a40d-3b6a-4f24-8863-c17ed6ff3973",
   "metadata": {},
   "outputs": [
    {
     "data": {
      "text/plain": [
       "torch.Size([228146, 27])"
      ]
     },
     "execution_count": 148,
     "metadata": {},
     "output_type": "execute_result"
    }
   ],
   "source": [
    "counts = logits.exp()\n",
    "prob = counts / counts.sum(1, keepdims=True)\n",
    "prob.shape"
   ]
  },
  {
   "cell_type": "code",
   "execution_count": 149,
   "id": "d6877d71-9404-4b0d-b560-530d723788ec",
   "metadata": {},
   "outputs": [
    {
     "data": {
      "text/plain": [
       "tensor(15.4720)"
      ]
     },
     "execution_count": 149,
     "metadata": {},
     "output_type": "execute_result"
    }
   ],
   "source": [
    "loss = -prob[torch.arange(prob.shape[0]), Y].log().mean() # Negative log likelihood loss\n",
    "loss"
   ]
  },
  {
   "cell_type": "markdown",
   "id": "9a974923-0051-4de0-a3ac-fecf3967d2a6",
   "metadata": {},
   "source": [
    "## Summary of the network"
   ]
  },
  {
   "cell_type": "code",
   "execution_count": 151,
   "id": "d90bdbd3-9831-4631-88ba-d73a435caae2",
   "metadata": {},
   "outputs": [
    {
     "data": {
      "text/plain": [
       "(torch.Size([182580, 3]), torch.Size([182580]))"
      ]
     },
     "execution_count": 151,
     "metadata": {},
     "output_type": "execute_result"
    }
   ],
   "source": [
    "Xtr.shape, Ytr.shape # Dataset"
   ]
  },
  {
   "cell_type": "code",
   "execution_count": 212,
   "id": "2b627020-55ff-4f57-bdc2-1a65fd01cc9b",
   "metadata": {},
   "outputs": [],
   "source": [
    "g = torch.Generator().manual_seed(2147483647) # For reproducibility\n",
    "C = torch.randn((27, 10), generator=g)\n",
    "W1 = torch.rand((30, 200), generator=g) #(3*10, 300) 30 inputs, 200 neuron output \n",
    "b1 = torch.randn(200, generator=g)\n",
    "W2 = torch.rand((200, 27), generator=g) \n",
    "b2 = torch.randn(27, generator=g)\n",
    "parameters = [C, W1, b1, W2, b2]"
   ]
  },
  {
   "cell_type": "code",
   "execution_count": 213,
   "id": "baf872fc-0dd1-4d7c-8d16-04b51d73e843",
   "metadata": {},
   "outputs": [
    {
     "data": {
      "text/plain": [
       "11897"
      ]
     },
     "execution_count": 213,
     "metadata": {},
     "output_type": "execute_result"
    }
   ],
   "source": [
    "sum(p.nelement() for p in parameters) # Number of parameters in total"
   ]
  },
  {
   "cell_type": "code",
   "execution_count": 160,
   "id": "e95083aa-2221-4fbf-b4a7-8ec4b3cf2d8f",
   "metadata": {},
   "outputs": [],
   "source": [
    "# Forward pass\n",
    "emb = C[X] # (32, 3, 2)\n",
    "h = torch.tanh(emb.view(-1, 6) @ W1 + b1) # (32, 100)\n",
    "logits = h @ W2 + b2\n",
    "counts = logits.exp()\n",
    "# prob = counts / counts.sum(1, keepdims=True)\n",
    "# loss = -prob[torch.arange(32), Y].log().mean() \n",
    "# loss"
   ]
  },
  {
   "cell_type": "markdown",
   "id": "5fedf65a-f7ee-4ccb-8aca-9ad3ea762744",
   "metadata": {},
   "source": [
    "## Introducing F.cross_entropy and why"
   ]
  },
  {
   "cell_type": "code",
   "execution_count": 161,
   "id": "7a55db99-ce27-4d69-b456-49abfa7f0d04",
   "metadata": {},
   "outputs": [
    {
     "data": {
      "text/plain": [
       "tensor(6.1746)"
      ]
     },
     "execution_count": 161,
     "metadata": {},
     "output_type": "execute_result"
    }
   ],
   "source": [
    "# Instead of the above loss, we can use cross-entropy\n",
    "# Never in practice write the above code, as it creates new tensors in memory \n",
    "# Backward pass is simpler with cross-entropy, even the forward pass\n",
    "# And numerically well behaved \n",
    "loss = F.cross_entropy(logits, Y)\n",
    "loss"
   ]
  },
  {
   "cell_type": "markdown",
   "id": "698b1c46-5c77-4ad4-b975-da598188252b",
   "metadata": {},
   "source": [
    "## Implementing the training loop, overfitting one batch & Mini-batch on full dataset"
   ]
  },
  {
   "cell_type": "code",
   "execution_count": 214,
   "id": "7976b802-ad50-4754-a6cc-d148594b704b",
   "metadata": {},
   "outputs": [],
   "source": [
    "for p in parameters:\n",
    "    p.requires_grad = True"
   ]
  },
  {
   "cell_type": "code",
   "execution_count": 169,
   "id": "7fd49cc8-29a8-4541-bdc4-a8e2c83facf1",
   "metadata": {},
   "outputs": [
    {
     "name": "stdout",
     "output_type": "stream",
     "text": [
      "1.9691802263259888\n"
     ]
    }
   ],
   "source": [
    "for i in range(10000):\n",
    "\n",
    "    # minibatch construct\n",
    "    ix = torch.randint(0, Xtr.shape[0], (32,))\n",
    "    \n",
    "    # Forward pass\n",
    "    emb = C[Xtr[ix]] # (32, 3, 2)\n",
    "    h = torch.tanh(emb.view(-1, 6) @ W1 + b1) # (32, 100)\n",
    "    logits = h @ W2 + b2\n",
    "    counts = logits.exp()\n",
    "    loss = F.cross_entropy(logits, Ytr[ix])\n",
    "    # if i % 1000 == 0:\n",
    "    #     print(loss.item())|\n",
    "    # Backward pass\n",
    "    for p in parameters:\n",
    "        p.grad = None\n",
    "    loss.backward()\n",
    "    \n",
    "    #update\n",
    "    for p in parameters:\n",
    "        p.data += -0.001 * p.grad\n",
    "\n",
    "print(loss.item())"
   ]
  },
  {
   "cell_type": "code",
   "execution_count": 171,
   "id": "9ab885a5-5c86-45bd-8434-587afa678526",
   "metadata": {},
   "outputs": [
    {
     "data": {
      "text/plain": [
       "tensor(2.2423, grad_fn=<NllLossBackward0>)"
      ]
     },
     "execution_count": 171,
     "metadata": {},
     "output_type": "execute_result"
    }
   ],
   "source": [
    "emb = C[Xtr] # (228146, 3, 2)\n",
    "h = torch.tanh(emb.view(-1, 6) @ W1 + b1) # (228146, 100)\n",
    "logits = h @ W2 + b2\n",
    "counts = logits.exp()\n",
    "loss = F.cross_entropy(logits, Ytr)\n",
    "loss"
   ]
  },
  {
   "cell_type": "code",
   "execution_count": 172,
   "id": "e87f1156-4735-478a-bc05-f2bf74257d49",
   "metadata": {},
   "outputs": [
    {
     "data": {
      "text/plain": [
       "tensor(2.2464, grad_fn=<NllLossBackward0>)"
      ]
     },
     "execution_count": 172,
     "metadata": {},
     "output_type": "execute_result"
    }
   ],
   "source": [
    "emb = C[Xdev] # (228146, 3, 2)\n",
    "h = torch.tanh(emb.view(-1, 6) @ W1 + b1) # (228146, 100)\n",
    "logits = h @ W2 + b2\n",
    "counts = logits.exp()\n",
    "loss = F.cross_entropy(logits, Ydev)\n",
    "loss"
   ]
  },
  {
   "cell_type": "markdown",
   "id": "4e551e0f-bc88-40b5-9e92-b06a98c46a64",
   "metadata": {},
   "source": [
    "## Finding a good initial learning rate"
   ]
  },
  {
   "cell_type": "code",
   "execution_count": 182,
   "id": "107692b0-6b7b-4866-91f3-42a1e34f9132",
   "metadata": {},
   "outputs": [],
   "source": [
    "lre = torch.linspace(-3, 0, 1000) # 1000 steps between -3 and 0\n",
    "lrs = 10 ** lre # 1000 steps between 10^-3 and 10^0\n",
    "# lrs"
   ]
  },
  {
   "cell_type": "code",
   "execution_count": 215,
   "id": "a1bb37c0-c94f-442a-a312-d35bd155ba5f",
   "metadata": {},
   "outputs": [],
   "source": [
    "lri = []\n",
    "lossi = []\n",
    "stepi = []"
   ]
  },
  {
   "cell_type": "code",
   "execution_count": 220,
   "id": "80ae5e4a-97fe-46e8-aad8-66f2de87ab7d",
   "metadata": {},
   "outputs": [
    {
     "name": "stdout",
     "output_type": "stream",
     "text": [
      "2.051547050476074\n"
     ]
    }
   ],
   "source": [
    "for i in range(50000):\n",
    "\n",
    "    # minibatch construct\n",
    "    ix = torch.randint(0, Xtr.shape[0], (32,))\n",
    "    \n",
    "    # Forward pass\n",
    "    emb = C[Xtr[ix]] # (32, 3, 2)\n",
    "    h = torch.tanh(emb.view(-1, 30) @ W1 + b1) # (32, 100)\n",
    "    logits = h @ W2 + b2\n",
    "    counts = logits.exp()\n",
    "    loss = F.cross_entropy(logits, Ytr[ix])\n",
    "    # if i % 100 == 0:\n",
    "    #     print(loss.item())\n",
    "    # Backward pass\n",
    "    for p in parameters:\n",
    "        p.grad = None\n",
    "    loss.backward()\n",
    "    \n",
    "    #update\n",
    "    lr = 0.01\n",
    "    for p in parameters:\n",
    "        p.data += -lr * p.grad\n",
    "\n",
    "    # Track stats\n",
    "    # lri.append(lre[i])\n",
    "    lossi.append(loss.log10().item())\n",
    "    stepi.append(i)\n",
    "    \n",
    "print(loss.item())"
   ]
  },
  {
   "cell_type": "code",
   "execution_count": 221,
   "id": "18e06b3a-3313-4023-a4b6-a9125102271d",
   "metadata": {},
   "outputs": [
    {
     "data": {
      "text/plain": [
       "tensor(2.0784, grad_fn=<NllLossBackward0>)"
      ]
     },
     "execution_count": 221,
     "metadata": {},
     "output_type": "execute_result"
    }
   ],
   "source": [
    "emb = C[Xtr] # (228146, 3, 2)\n",
    "h = torch.tanh(emb.view(-1, 30) @ W1 + b1) # (228146, 100)\n",
    "logits = h @ W2 + b2\n",
    "counts = logits.exp()\n",
    "loss = F.cross_entropy(logits, Ytr)\n",
    "loss"
   ]
  },
  {
   "cell_type": "code",
   "execution_count": 222,
   "id": "f31d8cf0-fc66-4ee6-88ac-ecca05a72084",
   "metadata": {},
   "outputs": [
    {
     "data": {
      "text/plain": [
       "tensor(2.1210, grad_fn=<NllLossBackward0>)"
      ]
     },
     "execution_count": 222,
     "metadata": {},
     "output_type": "execute_result"
    }
   ],
   "source": [
    "emb = C[Xdev] # (228146, 3, 2)\n",
    "h = torch.tanh(emb.view(-1, 30) @ W1 + b1) # (228146, 100)\n",
    "logits = h @ W2 + b2\n",
    "counts = logits.exp()\n",
    "loss = F.cross_entropy(logits, Ydev)\n",
    "loss"
   ]
  },
  {
   "cell_type": "code",
   "execution_count": 223,
   "id": "a83f28aa-47ea-4ed4-b7da-806909bc2382",
   "metadata": {},
   "outputs": [
    {
     "data": {
      "image/png": "[encoded data removed]",
      "text/plain": [
       "<Figure size 640x480 with 1 Axes>"
      ]
     },
     "metadata": {},
     "output_type": "display_data"
    }
   ],
   "source": [
    "plt.plot(stepi, lossi)\n",
    "plt.show()"
   ]
  },
  {
   "cell_type": "code",
   "execution_count": 131,
   "id": "99a4c27c-4f2f-4e83-a1df-7930a7ffa2f5",
   "metadata": {},
   "outputs": [
    {
     "data": {
      "image/png": "[encoded data removed]",
      "text/plain": [
       "<Figure size 640x480 with 1 Axes>"
      ]
     },
     "metadata": {},
     "output_type": "display_data"
    }
   ],
   "source": [
    "plt.plot(lri, lossi)\n",
    "plt.show()"
   ]
  },
  {
   "cell_type": "code",
   "execution_count": 133,
   "id": "bc0f9c21-151d-4f67-88ab-9638598bcbfe",
   "metadata": {},
   "outputs": [],
   "source": [
    "# From this we can deduce that 10^-1 or 0.1 is a good initial learning rate\n",
    "# After a few iterations at learning rate 0.1, we can reduce it to 0.01\n",
    "# Run that for 10000 iterations and then again reduce it, keep going till learning rate is 0.001"
   ]
  },
  {
   "cell_type": "markdown",
   "id": "ef61e11e-19c9-41b9-a19f-cfa4cdc2de2f",
   "metadata": {},
   "source": [
    "## Splitting up the dataset into train/val/test splits and why"
   ]
  },
  {
   "cell_type": "code",
   "execution_count": 134,
   "id": "e8ef3d8a-508e-4268-b055-cd230fa7c4b4",
   "metadata": {},
   "outputs": [],
   "source": [
    "# To not overfit the data\n",
    "# Split the data into\n",
    "# Training split (used to otrain the parameters, dev/validation split (used to train hyperparameters), test split (Evaluate the performance of the model)\n",
    "# 80%, 10%, 10%"
   ]
  },
  {
   "cell_type": "code",
   "execution_count": 136,
   "id": "5cf26560-88f8-44c7-80fd-94ea60dcca49",
   "metadata": {},
   "outputs": [],
   "source": [
    "# Done above"
   ]
  },
  {
   "cell_type": "markdown",
   "id": "6bf2bbfa-19ac-4634-8060-1993bf1afdfb",
   "metadata": {},
   "source": [
    "## Experiment: larger hidden later"
   ]
  },
  {
   "cell_type": "code",
   "execution_count": 173,
   "id": "71f99a43-8e8c-4dfa-8573-e2a0155a7c24",
   "metadata": {},
   "outputs": [],
   "source": [
    "# This model currently only has 3481 parameters which is very small and is underfitting the dat"
   ]
  },
  {
   "cell_type": "markdown",
   "id": "e6d9efca-3505-4367-a440-f0c9e56cdddf",
   "metadata": {},
   "source": [
    "## Visualizing the embedding vector"
   ]
  },
  {
   "cell_type": "code",
   "execution_count": 198,
   "id": "8fb7d36b-6118-484b-b9cc-646427d11a40",
   "metadata": {},
   "outputs": [],
   "source": [
    "# Right now the embedding size is 2 so we can visaulize them"
   ]
  },
  {
   "cell_type": "code",
   "execution_count": 201,
   "id": "7810028c-507a-4eb9-9d54-732ef468c3be",
   "metadata": {},
   "outputs": [
    {
     "data": {
      "image/png": "[encoded data removed]",
      "text/plain": [
       "<Figure size 800x800 with 1 Axes>"
      ]
     },
     "metadata": {},
     "output_type": "display_data"
    },
    {
     "data": {
      "image/png": "[encoded data removed]",
      "text/plain": [
       "<Figure size 800x800 with 1 Axes>"
      ]
     },
     "metadata": {},
     "output_type": "display_data"
    }
   ],
   "source": [
    "# visualize dimensions 0 and 1 of the embedding matrix C for all characters\n",
    "plt.figure(figsize=(8,8))\n",
    "plt.scatter(C[:,0].data, C[:,1].data, s=200)\n",
    "for i in range(C.shape[0]):\n",
    "    plt.text(C[i,0].item(), C[i,1].item(), itos[i], ha=\"center\", va=\"center\", color='white')\n",
    "plt.grid('minor')\n",
    "plt.show()"
   ]
  },
  {
   "cell_type": "markdown",
   "id": "e22918b0-5a12-4f83-8b85-adbd0fa0bbb1",
   "metadata": {},
   "source": [
    "## Experiment: Larger embedding size"
   ]
  },
  {
   "cell_type": "code",
   "execution_count": 202,
   "id": "39059a22-55d9-40fd-ab6b-6615b83b4979",
   "metadata": {},
   "outputs": [],
   "source": [
    "# instead of C = torch.randn((27, 2)) this is @ dimensional\n",
    "# We do (27, 10) this is 10 dimensional"
   ]
  },
  {
   "cell_type": "markdown",
   "id": "4dfbbb0c-f9dc-4c5d-b2ea-6f5b2f415631",
   "metadata": {},
   "source": [
    "## Final Code and sample from the model"
   ]
  },
  {
   "cell_type": "code",
   "execution_count": 224,
   "id": "7bb83efc-c13c-4a7f-aa66-a6aede9ad7c1",
   "metadata": {},
   "outputs": [
    {
     "name": "stdout",
     "output_type": "stream",
     "text": [
      "torch.Size([182437, 3]) torch.Size([182437])\n",
      "torch.Size([22781, 3]) torch.Size([22781])\n",
      "torch.Size([22928, 3]) torch.Size([22928])\n"
     ]
    }
   ],
   "source": [
    "# build the dataset\n",
    "block_size = 3 # context length: how many characters do we take to predict the next one?\n",
    "\n",
    "def build_dataset(words):  \n",
    "  X, Y = [], []\n",
    "  for w in words:\n",
    "\n",
    "    #print(w)\n",
    "    context = [0] * block_size\n",
    "    for ch in w + '.':\n",
    "      ix = stoi[ch]\n",
    "      X.append(context)\n",
    "      Y.append(ix)\n",
    "      #print(''.join(itos[i] for i in context), '--->', itos[ix])\n",
    "      context = context[1:] + [ix] # crop and append\n",
    "\n",
    "  X = torch.tensor(X)\n",
    "  Y = torch.tensor(Y)\n",
    "  print(X.shape, Y.shape)\n",
    "  return X, Y\n",
    "\n",
    "import random\n",
    "random.seed(42)\n",
    "random.shuffle(words)\n",
    "n1 = int(0.8*len(words))\n",
    "n2 = int(0.9*len(words))\n",
    "\n",
    "Xtr, Ytr = build_dataset(words[:n1])\n",
    "Xdev, Ydev = build_dataset(words[n1:n2])\n",
    "Xte, Yte = build_dataset(words[n2:])"
   ]
  },
  {
   "cell_type": "code",
   "execution_count": 225,
   "id": "f6542f24-944d-43f9-9827-127e391d3ac7",
   "metadata": {},
   "outputs": [],
   "source": [
    "g = torch.Generator().manual_seed(2147483647) # for reproducibility\n",
    "C = torch.randn((27, 10), generator=g)\n",
    "W1 = torch.randn((30, 200), generator=g)\n",
    "b1 = torch.randn(200, generator=g)\n",
    "W2 = torch.randn((200, 27), generator=g)\n",
    "b2 = torch.randn(27, generator=g)\n",
    "parameters = [C, W1, b1, W2, b2]"
   ]
  },
  {
   "cell_type": "code",
   "execution_count": 226,
   "id": "690c5cdd-59c2-4594-b5a8-8ceb5d15d2d0",
   "metadata": {},
   "outputs": [
    {
     "data": {
      "text/plain": [
       "11897"
      ]
     },
     "execution_count": 226,
     "metadata": {},
     "output_type": "execute_result"
    }
   ],
   "source": [
    "sum(p.nelement() for p in parameters) # number of parameters in total"
   ]
  },
  {
   "cell_type": "code",
   "execution_count": 227,
   "id": "ff7cbc7e-b145-424f-b000-84cb536f9295",
   "metadata": {},
   "outputs": [],
   "source": [
    "for p in parameters:\n",
    "  p.requires_grad = True\n",
    "\n",
    "for i in range(200000):\n",
    "  \n",
    "  # minibatch construct\n",
    "  ix = torch.randint(0, Xtr.shape[0], (32,))\n",
    "  \n",
    "  # forward pass\n",
    "  emb = C[Xtr[ix]] # (32, 3, 10)\n",
    "  h = torch.tanh(emb.view(-1, 30) @ W1 + b1) # (32, 200)\n",
    "  logits = h @ W2 + b2 # (32, 27)\n",
    "  loss = F.cross_entropy(logits, Ytr[ix])\n",
    "  \n",
    "  # backward pass\n",
    "  for p in parameters:\n",
    "    p.grad = None\n",
    "  loss.backward()\n",
    "  \n",
    "  # update\n",
    "  lr = 0.1 if i < 100000 else 0.01\n",
    "  for p in parameters:\n",
    "    p.data += -lr * p.grad\n",
    "\n",
    "  # track stats\n",
    "  #lri.append(lre[i])\n",
    "  # stepi.append(i)\n",
    "  # lossi.append(loss.log10().item())\n",
    "\n",
    "#print(loss.item())"
   ]
  },
  {
   "cell_type": "code",
   "execution_count": 228,
   "id": "92c3e001-8f20-4f0b-b3e8-53f26db9550d",
   "metadata": {},
   "outputs": [
    {
     "data": {
      "text/plain": [
       "tensor(2.1313, grad_fn=<NllLossBackward0>)"
      ]
     },
     "execution_count": 228,
     "metadata": {},
     "output_type": "execute_result"
    }
   ],
   "source": [
    "# Train Loss\n",
    "emb = C[Xtr] # (32, 3, 10)\n",
    "h = torch.tanh(emb.view(-1, 30) @ W1 + b1) # (32, 200)\n",
    "logits = h @ W2 + b2 # (32, 27)\n",
    "loss = F.cross_entropy(logits, Ytr)\n",
    "loss"
   ]
  },
  {
   "cell_type": "code",
   "execution_count": 229,
   "id": "337d20d4-e112-4fb8-99f0-4f0235cd89e0",
   "metadata": {},
   "outputs": [
    {
     "data": {
      "text/plain": [
       "tensor(2.1858, grad_fn=<NllLossBackward0>)"
      ]
     },
     "execution_count": 229,
     "metadata": {},
     "output_type": "execute_result"
    }
   ],
   "source": [
    "# Dev Loss\n",
    "emb = C[Xdev] # (32, 3, 10)\n",
    "h = torch.tanh(emb.view(-1, 30) @ W1 + b1) # (32, 200)\n",
    "logits = h @ W2 + b2 # (32, 27)\n",
    "loss = F.cross_entropy(logits, Ydev)\n",
    "loss"
   ]
  },
  {
   "cell_type": "code",
   "execution_count": 232,
   "id": "8f69160f-d721-433d-a7ff-5fc1ccdafa08",
   "metadata": {},
   "outputs": [
    {
     "data": {
      "text/plain": [
       "tensor(2.1780, grad_fn=<NllLossBackward0>)"
      ]
     },
     "execution_count": 232,
     "metadata": {},
     "output_type": "execute_result"
    }
   ],
   "source": [
    "# Test Loss\n",
    "emb = C[Xte] # (32, 3, 10)\n",
    "h = torch.tanh(emb.view(-1, 30) @ W1 + b1) # (32, 200)\n",
    "logits = h @ W2 + b2 # (32, 27)\n",
    "loss = F.cross_entropy(logits, Yte)\n",
    "loss"
   ]
  },
  {
   "cell_type": "code",
   "execution_count": 233,
   "id": "0e4dc37a-dabb-4686-8bc0-47b4e83ef14b",
   "metadata": {},
   "outputs": [
    {
     "data": {
      "text/plain": [
       "torch.Size([1, 3, 10])"
      ]
     },
     "execution_count": 233,
     "metadata": {},
     "output_type": "execute_result"
    }
   ],
   "source": [
    "context = [0] * block_size\n",
    "C[torch.tensor([context])].shape"
   ]
  },
  {
   "cell_type": "code",
   "execution_count": 234,
   "id": "4564ac12-b5fb-40ff-9624-28f65b988d4e",
   "metadata": {},
   "outputs": [
    {
     "name": "stdout",
     "output_type": "stream",
     "text": [
      "carmaizabelle.\n",
      "khi.\n",
      "milia.\n",
      "atyah.\n",
      "cassa.\n",
      "jazhita.\n",
      "deliah.\n",
      "jarqui.\n",
      "nerania.\n",
      "chaiiy.\n",
      "kaleigh.\n",
      "ham.\n",
      "joce.\n",
      "quinn.\n",
      "sulisea.\n",
      "jadia.\n",
      "watelogiefrynn.\n",
      "jaxeenicsabee.\n",
      "demiia.\n",
      "gian.\n"
     ]
    }
   ],
   "source": [
    "# sample from the model\n",
    "g = torch.Generator().manual_seed(2147483647 + 10)\n",
    "\n",
    "for _ in range(20):\n",
    "    \n",
    "    out = []\n",
    "    context = [0] * block_size # initialize with all ...\n",
    "    while True:\n",
    "      emb = C[torch.tensor([context])] # (1,block_size,d)\n",
    "      h = torch.tanh(emb.view(1, -1) @ W1 + b1)\n",
    "      logits = h @ W2 + b2\n",
    "      probs = F.softmax(logits, dim=1)\n",
    "      ix = torch.multinomial(probs, num_samples=1, generator=g).item()\n",
    "      context = context[1:] + [ix]\n",
    "      out.append(ix)\n",
    "      if ix == 0:\n",
    "        break\n",
    "    \n",
    "    print(''.join(itos[i] for i in out))"
   ]
  },
  {
   "cell_type": "code",
   "execution_count": null,
   "id": "432b158d-3e9b-4402-9a78-4afbdf092b4b",
   "metadata": {},
   "outputs": [],
   "source": []
  }
 ],
 "metadata": {
  "kernelspec": {
   "display_name": "Python 3 (ipykernel)",
   "language": "python",
   "name": "python3"
  },
  "language_info": {
   "codemirror_mode": {
    "name": "ipython",
    "version": 3
   },
   "file_extension": ".py",
   "mimetype": "text/x-python",
   "name": "python",
   "nbconvert_exporter": "python",
   "pygments_lexer": "ipython3",
   "version": "3.13.5"
  }
 },
 "nbformat": 4,
 "nbformat_minor": 5
}
